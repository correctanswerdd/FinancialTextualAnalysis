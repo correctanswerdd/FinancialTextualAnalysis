{
  "nbformat": 4,
  "nbformat_minor": 0,
  "metadata": {
    "anaconda-cloud": {},
    "colab": {
      "name": "tut_pythonSimilarity.ipynb",
      "provenance": [],
      "collapsed_sections": []
    },
    "kernelspec": {
      "display_name": "Python 3",
      "language": "python",
      "name": "python3"
    },
    "language_info": {
      "codemirror_mode": {
        "name": "ipython",
        "version": 3
      },
      "file_extension": ".py",
      "mimetype": "text/x-python",
      "name": "python",
      "nbconvert_exporter": "python",
      "pygments_lexer": "ipython3",
      "version": "3.8.3"
    }
  },
  "cells": [
    {
      "cell_type": "markdown",
      "metadata": {
        "id": "PsgHLw5LLWB3"
      },
      "source": [
        "# MSBD5001 Foundations of Data Analytics\n",
        "\n",
        "### Fall 2020\n",
        "\n",
        "## Tutorial: Similarity Measures"
      ]
    },
    {
      "cell_type": "markdown",
      "metadata": {
        "collapsed": true,
        "id": "GlsRqh6zLWB4"
      },
      "source": [
        "In this tutorial, we will discuss some examples of Python packages for similarity measures.\n",
        "Or we can always implement the similarity measures ourselves."
      ]
    },
    {
      "cell_type": "markdown",
      "metadata": {
        "id": "k-zzMX96LWB5"
      },
      "source": [
        "### NLTK -- Natural Language Toolkit\n",
        "<strong>NLTK -- Natural Language Toolkit</strong> - edit distance, jaccard distance, etc. ...\n",
        "<url>http://www.nltk.org/index.html</url>\n",
        "\n",
        "To install:\n",
        "<pre>pip install nltk</pre>"
      ]
    },
    {
      "cell_type": "code",
      "metadata": {
        "id": "lQ5_P7zmTGjM"
      },
      "source": [
        "%pip install nltk"
      ],
      "execution_count": null,
      "outputs": []
    },
    {
      "cell_type": "code",
      "metadata": {
        "colab": {
          "base_uri": "https://localhost:8080/",
          "height": 34
        },
        "id": "o0NxfBQRLWB6",
        "outputId": "a0708f53-833b-4ad9-aa93-92a63e3a3fff"
      },
      "source": [
        "from nltk.metrics import distance\n",
        "distance.edit_distance(\"dave\", \"dav\")"
      ],
      "execution_count": null,
      "outputs": [
        {
          "output_type": "execute_result",
          "data": {
            "text/plain": [
              "1"
            ]
          },
          "metadata": {
            "tags": []
          },
          "execution_count": 2
        }
      ]
    },
    {
      "cell_type": "code",
      "metadata": {
        "colab": {
          "base_uri": "https://localhost:8080/",
          "height": 34
        },
        "id": "cJ6IdY18LWCA",
        "outputId": "7deea139-39dc-4fdc-ec18-8bcc64d4fdf3"
      },
      "source": [
        "from nltk.metrics import distance\n",
        "s1 = \"who are you\"\n",
        "s2 = \"how are you\"\n",
        "distance.jaccard_distance(set(s1.split()), set(s2.split()))"
      ],
      "execution_count": null,
      "outputs": [
        {
          "output_type": "execute_result",
          "data": {
            "text/plain": [
              "0.5"
            ]
          },
          "metadata": {
            "tags": []
          },
          "execution_count": 3
        }
      ]
    },
    {
      "cell_type": "markdown",
      "metadata": {
        "id": "rglj-M1VLWCD"
      },
      "source": [
        "Word N-grams"
      ]
    },
    {
      "cell_type": "code",
      "metadata": {
        "colab": {
          "base_uri": "https://localhost:8080/",
          "height": 68
        },
        "id": "rTc5grhsLWCE",
        "outputId": "9b576543-bd66-4e9b-bcd0-f963a0dc7b25"
      },
      "source": [
        "from nltk.util import ngrams\n",
        "from nltk.metrics import distance\n",
        "s1 = \"who are you\"\n",
        "s2 = \"how are you\"\n",
        "wbigrams1 = set(ngrams(s1.split(), 2))\n",
        "wbigrams2 = set(ngrams(s2.split(), 2))\n",
        "print(\"Set1:\", wbigrams1)\n",
        "print(\"Set2:\", wbigrams2)\n",
        "distance.jaccard_distance(wbigrams1, wbigrams2)"
      ],
      "execution_count": null,
      "outputs": [
        {
          "output_type": "stream",
          "text": [
            "Set1: {('who', 'are'), ('are', 'you')}\n",
            "Set2: {('are', 'you'), ('how', 'are')}\n"
          ],
          "name": "stdout"
        },
        {
          "output_type": "execute_result",
          "data": {
            "text/plain": [
              "0.6666666666666666"
            ]
          },
          "metadata": {
            "tags": []
          },
          "execution_count": 4
        }
      ]
    },
    {
      "cell_type": "markdown",
      "metadata": {
        "id": "cNzt4VCvLWCI"
      },
      "source": [
        "Character N-grams"
      ]
    },
    {
      "cell_type": "code",
      "metadata": {
        "colab": {
          "base_uri": "https://localhost:8080/",
          "height": 68
        },
        "id": "iRAIsdUfLWCI",
        "outputId": "033ecfaf-d4ec-4e0d-f037-0b264de9c571"
      },
      "source": [
        "from nltk.util import ngrams\n",
        "from nltk.metrics import distance\n",
        "text1 = 'pedro'\n",
        "text2 = \"peter\"\n",
        "bigrams1 = set(ngrams(text1, 2))\n",
        "bigrams2 = set(ngrams(text2, 2))\n",
        "print(\"Set1:\", bigrams1)\n",
        "print(\"Set2:\", bigrams2)\n",
        "distance.jaccard_distance(bigrams1, bigrams2)"
      ],
      "execution_count": null,
      "outputs": [
        {
          "output_type": "stream",
          "text": [
            "Set1: {('p', 'e'), ('d', 'r'), ('r', 'o'), ('e', 'd')}\n",
            "Set2: {('p', 'e'), ('e', 'r'), ('e', 't'), ('t', 'e')}\n"
          ],
          "name": "stdout"
        },
        {
          "output_type": "execute_result",
          "data": {
            "text/plain": [
              "0.8571428571428571"
            ]
          },
          "metadata": {
            "tags": []
          },
          "execution_count": 5
        }
      ]
    },
    {
      "cell_type": "markdown",
      "metadata": {
        "id": "g3t558XmLWCM"
      },
      "source": [
        "### Python-Levenshtein\n",
        "\n",
        "<strong>Python-Levenshtein</strong> – edit distance, jaro, jaro-winkler, etc….\n",
        "<url>https://pypi.python.org/pypi/python-Levenshtein</url>\n",
        "\n",
        "To install, in prompt:\n",
        "<pre>pip install python-levenshtein</pre>\n",
        "or\n",
        "<pre>conda install -c conda-forge python-levenshtein</pre>"
      ]
    },
    {
      "cell_type": "code",
      "metadata": {
        "id": "7mOaB4VrL0-4"
      },
      "source": [
        "%pip install python-levenshtein"
      ],
      "execution_count": null,
      "outputs": []
    },
    {
      "cell_type": "code",
      "metadata": {
        "colab": {
          "base_uri": "https://localhost:8080/",
          "height": 85
        },
        "id": "_B-hgVfOLWCN",
        "outputId": "5d39fceb-8464-474c-8dea-7a1e3bd96109"
      },
      "source": [
        "from Levenshtein import *\n",
        "\n",
        "edit_dist = distance(\"abc\", \"abd\")\n",
        "print (edit_dist)\n",
        "\n",
        "hamming_dist = hamming(\"abc\", \"abd\")\n",
        "print (hamming_dist)\n",
        "\n",
        "jaro_dist = jaro(\"abc\", \"abd\")\n",
        "print (jaro_dist)\n",
        "\n",
        "jaro_winkler_dist = jaro_winkler(\"abc\", \"abd\")\n",
        "print (jaro_winkler_dist)"
      ],
      "execution_count": null,
      "outputs": [
        {
          "output_type": "stream",
          "text": [
            "1\n",
            "1\n",
            "0.7777777777777777\n",
            "0.8222222222222222\n"
          ],
          "name": "stdout"
        }
      ]
    },
    {
      "cell_type": "markdown",
      "metadata": {
        "id": "mRGHAMQ6LWCQ"
      },
      "source": [
        "### FuzzyWuzzy\n",
        "\n",
        "<strong>FuzzyWuzzy</strong> – using levenshtein distance\n",
        "<url>https://pypi.python.org/pypi/fuzzywuzzy</url>\n",
        "\n",
        "To install, in prompt:\n",
        "<pre>   pip install fuzzywuzzy</pre>"
      ]
    },
    {
      "cell_type": "code",
      "metadata": {
        "id": "hACFbLAvSNne"
      },
      "source": [
        "%pip install fuzzywuzzy"
      ],
      "execution_count": null,
      "outputs": []
    },
    {
      "cell_type": "code",
      "metadata": {
        "colab": {
          "base_uri": "https://localhost:8080/",
          "height": 34
        },
        "id": "0eEKvQ08LWCQ",
        "outputId": "452a43fa-0da9-4299-aaf3-16c1bf247582"
      },
      "source": [
        "from fuzzywuzzy import fuzz\n",
        "fuzz.ratio(\"abc\", \"abd\")"
      ],
      "execution_count": null,
      "outputs": [
        {
          "output_type": "execute_result",
          "data": {
            "text/plain": [
              "67"
            ]
          },
          "metadata": {
            "tags": []
          },
          "execution_count": 9
        }
      ]
    },
    {
      "cell_type": "markdown",
      "metadata": {
        "id": "9SXrjv5ELWCU"
      },
      "source": [
        "### Scikit-learn\n",
        "\n",
        "To install, in prompt:\n",
        "<pre>pip install sklearn</pre>\n",
        "\n",
        "The <strong>sklearn.metrics.pairwise</strong> submodule implements utilities to evaluate pairwise distances.\n",
        "<url>https://scikit-learn.org/stable/modules/metrics.html#metrics</url>"
      ]
    },
    {
      "cell_type": "code",
      "metadata": {
        "colab": {
          "base_uri": "https://localhost:8080/",
          "height": 34
        },
        "id": "j-6ZPQ3PLWCU",
        "outputId": "eb2715fb-46c5-491c-f98d-8a237ca13916"
      },
      "source": [
        "from sklearn.metrics import pairwise as p\n",
        "X = [[0, 1], [1, 1]]\n",
        "Y = [[0, 1], [2, 1]]\n",
        "p.paired_distances(X, Y, \"euclidean\")"
      ],
      "execution_count": null,
      "outputs": [
        {
          "output_type": "execute_result",
          "data": {
            "text/plain": [
              "array([0., 1.])"
            ]
          },
          "metadata": {
            "tags": []
          },
          "execution_count": 10
        }
      ]
    },
    {
      "cell_type": "code",
      "metadata": {
        "colab": {
          "base_uri": "https://localhost:8080/",
          "height": 34
        },
        "id": "c7bo9vqRLWCX",
        "outputId": "d6beb1fe-42e8-40b5-8597-3ad9911c7408"
      },
      "source": [
        "p.paired_distances(X, Y, \"cosine\")"
      ],
      "execution_count": null,
      "outputs": [
        {
          "output_type": "execute_result",
          "data": {
            "text/plain": [
              "array([0.       , 0.0513167])"
            ]
          },
          "metadata": {
            "tags": []
          },
          "execution_count": 11
        }
      ]
    },
    {
      "cell_type": "code",
      "metadata": {
        "colab": {
          "base_uri": "https://localhost:8080/",
          "height": 51
        },
        "id": "ucsG4iVdLWCa",
        "outputId": "81550b3a-5dad-4f19-e245-0ee4d1d96be3"
      },
      "source": [
        "p.cosine_similarity(X, Y)"
      ],
      "execution_count": null,
      "outputs": [
        {
          "output_type": "execute_result",
          "data": {
            "text/plain": [
              "array([[1.        , 0.4472136 ],\n",
              "       [0.70710678, 0.9486833 ]])"
            ]
          },
          "metadata": {
            "tags": []
          },
          "execution_count": 12
        }
      ]
    },
    {
      "cell_type": "code",
      "metadata": {
        "colab": {
          "base_uri": "https://localhost:8080/",
          "height": 51
        },
        "id": "yt4cXCvtLWCc",
        "outputId": "2d6523d9-f2ca-4ce4-e8a4-aff98ddcd9ed"
      },
      "source": [
        "p.cosine_distances(X, Y)"
      ],
      "execution_count": null,
      "outputs": [
        {
          "output_type": "execute_result",
          "data": {
            "text/plain": [
              "array([[0.        , 0.5527864 ],\n",
              "       [0.29289322, 0.0513167 ]])"
            ]
          },
          "metadata": {
            "tags": []
          },
          "execution_count": 13
        }
      ]
    },
    {
      "cell_type": "markdown",
      "metadata": {
        "id": "XEfLox3PLWCe"
      },
      "source": [
        "The <strong>sklearn.neighbours.DistanceMetric</strong> submodule \n",
        "<url>https://scikit-learn.org/stable/modules/generated/sklearn.neighbors.DistanceMetric.html#</url>"
      ]
    },
    {
      "cell_type": "code",
      "metadata": {
        "colab": {
          "base_uri": "https://localhost:8080/",
          "height": 51
        },
        "id": "d9fUwrTdLWCf",
        "outputId": "0d0e2d14-55bc-4bd4-95b8-0c7340b76e37"
      },
      "source": [
        "from sklearn.neighbors import DistanceMetric\n",
        "d = DistanceMetric.get_metric('jaccard')\n",
        "X = [[1, 0, 0, 0], [1, 1, 0, 1]]\n",
        "d.pairwise(X)"
      ],
      "execution_count": null,
      "outputs": [
        {
          "output_type": "execute_result",
          "data": {
            "text/plain": [
              "array([[0.        , 0.66666667],\n",
              "       [0.66666667, 0.        ]])"
            ]
          },
          "metadata": {
            "tags": []
          },
          "execution_count": 14
        }
      ]
    },
    {
      "cell_type": "code",
      "metadata": {
        "id": "tqbxk5ibLWCh"
      },
      "source": [
        ""
      ],
      "execution_count": null,
      "outputs": []
    }
  ]
}